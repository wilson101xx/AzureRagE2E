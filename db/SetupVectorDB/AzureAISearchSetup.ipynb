{
 "cells": [
  {
   "cell_type": "markdown",
   "metadata": {},
   "source": [
    "## Install Requirments"
   ]
  },
  {
   "cell_type": "code",
   "execution_count": 2,
   "metadata": {},
   "outputs": [],
   "source": [
    "! pip3 install -r ../../requirements.txt"
   ]
  },
  {
   "cell_type": "markdown",
   "metadata": {},
   "source": [
    "Save vars"
   ]
  },
  {
   "cell_type": "code",
   "execution_count": 3,
   "metadata": {},
   "outputs": [],
   "source": [
    "from dotenv import dotenv_values\n",
    "\n",
    "env_name = \"../../.env\"\n",
    "config = dotenv_values(env_name)\n",
    "\n",
    "try:\n",
    "    #Name that will be using to start all of the resources name\n",
    "    base_name = config[\"BASE_NAME\"]\n",
    "\n",
    "    #OpenAI Endpoint and key\n",
    "    ai_search_endpoint = config[\"AI_SEARCH_ENDPOINT\"]\n",
    "    ai_search_key = config[\"AI_SEARCH_KEY\"]\n",
    "\n",
    "    #Embedding Model details\n",
    "    azure_openai_endpoint_embedding = config[\"AZURE_OPENAI_ENDPOINT_EMBEDDING\"]\n",
    "    azure_openai_key_embedding = config[\"AZURE_OPENAI_KEY_EMBEDDING\"]\n",
    "    embedding_model = config[\"AI_SEARCH_EMBEDDING_MODEL\"]\n",
    "except KeyError as e:\n",
    "    print(f\"Missing key: {e}\")\n",
    "    print(f\"Please make sure you have a {env_name} file with all the required keys\")\n"
   ]
  },
  {
   "cell_type": "markdown",
   "metadata": {},
   "source": [
    "## Create vector database and correct fields"
   ]
  },
  {
   "cell_type": "code",
   "execution_count": 5,
   "metadata": {},
   "outputs": [
    {
     "name": "stderr",
     "output_type": "stream",
     "text": [
      "WARNING:azure.search.documents.indexes._generated._serialization:retrievable is not a known attribute of class <class 'azure.search.documents.indexes.models._index.SearchField'> and will be ignored\n",
      "WARNING:azure.search.documents.indexes._generated._serialization:kind is not a known attribute of class <class 'azure.search.documents.indexes._generated.models._models_py3.AzureOpenAIVectorizerParameters'> and will be ignored\n"
     ]
    },
    {
     "name": "stdout",
     "output_type": "stream",
     "text": [
      "Index - vector\"jupyter-test-index-vector\" created or updated successfully.\n"
     ]
    }
   ],
   "source": [
    "from azure.search.documents.indexes import SearchIndexClient\n",
    "from azure.search.documents.indexes.models import (\n",
    "    SearchableField,\n",
    "    SearchFieldDataType,\n",
    "    SimpleField,\n",
    "    SearchIndex,\n",
    "    SearchFieldDataType,\n",
    "    ComplexField,\n",
    "    SearchField,\n",
    "    VectorSearch,\n",
    "    HnswAlgorithmConfiguration,\n",
    "    HnswParameters,\n",
    "    VectorSearchProfile,\n",
    "    AzureOpenAIVectorizer,\n",
    "    AzureOpenAIVectorizerParameters,\n",
    "    SemanticConfiguration,\n",
    "    SemanticPrioritizedFields,\n",
    "    SemanticField,\n",
    "    SemanticSearch\n",
    ")\n",
    "from azure.core.credentials import AzureKeyCredential\n",
    "import logging\n",
    "\n",
    "logging.info(f\"index_SC_SDK_vector.py: {base_name}\")\n",
    "ai_search_credential = AzureKeyCredential(ai_search_key)\n",
    "\n",
    "\n",
    "index_name = \"{}-index-vector\".format(base_name)\n",
    "\n",
    "index_client = SearchIndexClient(\n",
    "    endpoint=ai_search_endpoint, credential=ai_search_credential\n",
    "    )\n",
    "\n",
    "\n",
    "index = fields = [\n",
    "        SimpleField(name=\"Id\", type=SearchFieldDataType.String, key=True, filterable=True, sortable=True),\n",
    "        \n",
    "        SearchField(name=\"content\", type=SearchFieldDataType.String, searchable=True, filterable=True, sortable=True),\n",
    "\n",
    "        SearchField(name=\"Content_vector\", type=SearchFieldDataType.Collection(SearchFieldDataType.Single),\n",
    "                    retrievable=True, vector_search_dimensions=1536, vector_search_profile_name=\"myHnswProfile\"),\n",
    "    ]\n",
    "\n",
    "\n",
    "vector_search = VectorSearch(\n",
    "    algorithms=[\n",
    "        HnswAlgorithmConfiguration(\n",
    "            name=\"myHnsw\",\n",
    "            kind=\"hnsw\",\n",
    "            parameters=HnswParameters(\n",
    "                m=4,\n",
    "                ef_construction=400,\n",
    "                ef_search=500,\n",
    "                metric=\"cosine\"\n",
    "            )\n",
    "        )\n",
    "    ],\n",
    "\n",
    "    profiles=[\n",
    "        VectorSearchProfile(\n",
    "            name=\"myHnswProfile\",\n",
    "            algorithm_configuration_name=\"myHnsw\",\n",
    "            vectorizer_name=\"myOpenai\"\n",
    "        )\n",
    "    ],\n",
    "    vectorizers=[\n",
    "        AzureOpenAIVectorizer(\n",
    "            vectorizer_name=\"myOpenai\",\n",
    "            kind = \"azureOpenAI\",\n",
    "            parameters=AzureOpenAIVectorizerParameters(\n",
    "                resource_url=azure_openai_endpoint_embedding,\n",
    "                deployment_name=embedding_model,\n",
    "                api_key=azure_openai_key_embedding,\n",
    "                kind=\"azureOpenAI\",\n",
    "                model_name= embedding_model\n",
    "            )\n",
    "        )\n",
    "    ]\n",
    ")\n",
    "\n",
    "semantic_config = SemanticConfiguration(\n",
    "    name=\"my-semantic-config\",\n",
    "    prioritized_fields=SemanticPrioritizedFields(\n",
    "        title_field=SemanticField(field_name=\"Id\"),\n",
    "        keywords_fields=[\n",
    "            SemanticField(field_name=\"content\"),\n",
    "            ],\n",
    "        content_fields=[\n",
    "            SemanticField(field_name=\"content\"),\n",
    "            ]\n",
    "    )\n",
    ")\n",
    "\n",
    "semantic_settings = SemanticSearch(configurations=[semantic_config])\n",
    "\n",
    "index = SearchIndex(\n",
    "    name= index_name,\n",
    "    fields= fields,\n",
    "    vector_search=vector_search,\n",
    "    semantic_search=semantic_settings\n",
    "    )\n",
    "\n",
    "\n",
    "\n",
    "result = index_client.create_or_update_index(index)\n",
    "print(f'Index - vector\"{result.name}\" created or updated successfully.')"
   ]
  }
 ],
 "metadata": {
  "kernelspec": {
   "display_name": "Python 3",
   "language": "python",
   "name": "python3"
  },
  "language_info": {
   "codemirror_mode": {
    "name": "ipython",
    "version": 3
   },
   "file_extension": ".py",
   "mimetype": "text/x-python",
   "name": "python",
   "nbconvert_exporter": "python",
   "pygments_lexer": "ipython3",
   "version": "3.11.7"
  }
 },
 "nbformat": 4,
 "nbformat_minor": 2
}
